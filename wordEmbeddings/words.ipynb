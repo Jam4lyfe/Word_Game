{
 "cells": [
  {
   "cell_type": "code",
   "execution_count": 1,
   "metadata": {},
   "outputs": [
    {
     "name": "stdout",
     "output_type": "stream",
     "text": [
      "C:\\Users\\dougl\\AppData\\Local\\Microsoft\\WindowsApps\\PythonSoftwareFoundation.Python.3.11_qbz5n2kfra8p0\\python.exe\n",
      "Requirement already satisfied: gensim in c:\\users\\dougl\\appdata\\local\\packages\\pythonsoftwarefoundation.python.3.11_qbz5n2kfra8p0\\localcache\\local-packages\\python311\\site-packages (4.3.2)\n",
      "Requirement already satisfied: numpy>=1.18.5 in c:\\users\\dougl\\appdata\\local\\packages\\pythonsoftwarefoundation.python.3.11_qbz5n2kfra8p0\\localcache\\local-packages\\python311\\site-packages (from gensim) (1.26.1)\n",
      "Requirement already satisfied: scipy>=1.7.0 in c:\\users\\dougl\\appdata\\local\\packages\\pythonsoftwarefoundation.python.3.11_qbz5n2kfra8p0\\localcache\\local-packages\\python311\\site-packages (from gensim) (1.11.3)\n",
      "Requirement already satisfied: smart-open>=1.8.1 in c:\\users\\dougl\\appdata\\local\\packages\\pythonsoftwarefoundation.python.3.11_qbz5n2kfra8p0\\localcache\\local-packages\\python311\\site-packages (from gensim) (6.4.0)\n",
      "Note: you may need to restart the kernel to use updated packages.\n"
     ]
    }
   ],
   "source": [
    "%pip install gensim"
   ]
  },
  {
   "cell_type": "code",
   "execution_count": 5,
   "metadata": {},
   "outputs": [],
   "source": [
    "from gensim.models import KeyedVectors\n",
    "\n",
    "#need to download the bottom two files in this directory: https://huggingface.co/fse/word2vec-google-news-300/tree/main\n",
    "# Load the vectors directly using KeyedVectors\n",
    "model = KeyedVectors.load(\"word2vec-google-news-300.model\", mmap='r')\n",
    "\n",
    "# Now you can get vectors or perform other operations.\n",
    "vector = model['computer']\n"
   ]
  },
  {
   "cell_type": "code",
   "execution_count": 13,
   "metadata": {},
   "outputs": [
    {
     "name": "stdout",
     "output_type": "stream",
     "text": [
      "happy_euphoric_similarity: 0.32648563385009766\n",
      "euphoric_happy_similarity: 0.32648563385009766\n",
      "happy_sad_similarity: 0.53546142578125\n"
     ]
    }
   ],
   "source": [
    "happy_euphoric_similarity = model.similarity('happy', 'euphoric')\n",
    "euphoric_happy_similarity = model.similarity('euphoric','happy')\n",
    "\n",
    "#bidirectional\n",
    "print(f\"happy_euphoric_similarity: {happy_euphoric_similarity}\")\n",
    "print(f\"euphoric_happy_similarity: {euphoric_happy_similarity}\")\n",
    "\n",
    "happy_sad_similarity =  model.similarity('happy', 'sad')\n",
    "\n",
    "print(f\"happy_sad_similarity: {happy_sad_similarity}\")\n",
    "\n"
   ]
  },
  {
   "cell_type": "code",
   "execution_count": 18,
   "metadata": {},
   "outputs": [
    {
     "name": "stdout",
     "output_type": "stream",
     "text": [
      "[('queen', 0.7118191123008728)]\n"
     ]
    }
   ],
   "source": [
    "#king - man + woman = queen, potential thing to try? word subtraction and addition\n",
    "result = model.most_similar(positive=['woman', 'king'], negative=['man'], topn=1)\n",
    "\n",
    "print(result)\n"
   ]
  },
  {
   "cell_type": "code",
   "execution_count": 20,
   "metadata": {},
   "outputs": [
    {
     "name": "stdout",
     "output_type": "stream",
     "text": [
      "[('actress', 0.860262393951416)]\n"
     ]
    }
   ],
   "source": [
    "#actor - man + woman\n",
    "result = model.most_similar(positive=['actor', 'woman'], negative=['man'], topn=1)\n",
    "\n",
    "print(result)"
   ]
  },
  {
   "cell_type": "code",
   "execution_count": 25,
   "metadata": {},
   "outputs": [
    {
     "name": "stdout",
     "output_type": "stream",
     "text": [
      "[('glad', 0.7408890724182129), ('pleased', 0.6632170677185059), ('ecstatic', 0.6626911163330078), ('overjoyed', 0.6599287390708923), ('thrilled', 0.6514049768447876)]\n"
     ]
    }
   ],
   "source": [
    "similar_words = model.most_similar('happy', topn=5)\n",
    "print(similar_words)"
   ]
  },
  {
   "cell_type": "code",
   "execution_count": 22,
   "metadata": {},
   "outputs": [
    {
     "name": "stdout",
     "output_type": "stream",
     "text": [
      "Excited vs Thrilled: 0.6457847952842712\n",
      "Excited vs Enthusiastic: 0.49812379479408264\n",
      "Thrilled is more similar to Excited\n"
     ]
    }
   ],
   "source": [
    "#example\n",
    "givenWord = \"Excited\"\n",
    "option1 = \"Thrilled\"\n",
    "option2 = \"Enthusiastic\"\n",
    "\n",
    "option1VsGivenWord = model.similarity(givenWord, option1)\n",
    "option2VsGivenWord = model.similarity(givenWord, option2)\n",
    "\n",
    "print(f\"{givenWord} vs {option1}: {option1VsGivenWord}\")\n",
    "print(f\"{givenWord} vs {option2}: {option2VsGivenWord}\")\n",
    "\n",
    "if (option1VsGivenWord > option2VsGivenWord):\n",
    "    print(f\"{option1} is more similar to {givenWord}\")\n",
    "else:\n",
    "    print(f\"{option2} is more similar to {givenWord}\")\n",
    "\n",
    "\n"
   ]
  },
  {
   "cell_type": "code",
   "execution_count": 27,
   "metadata": {},
   "outputs": [
    {
     "name": "stdout",
     "output_type": "stream",
     "text": [
      "Happy vs Angry: 0.2727975845336914\n",
      "Happy vs Joyful: 0.47351205348968506\n",
      "Joyful is more similar to Happy\n"
     ]
    }
   ],
   "source": [
    "#first word:\n",
    "givenWord = \"Happy\"\n",
    "option1 = \"Angry\"\n",
    "option2 = \"Joyful\"\n",
    "\n",
    "option1VsGivenWord = model.similarity(givenWord, option1)\n",
    "option2VsGivenWord = model.similarity(givenWord, option2)\n",
    "\n",
    "print(f\"{givenWord} vs {option1}: {option1VsGivenWord}\")\n",
    "print(f\"{givenWord} vs {option2}: {option2VsGivenWord}\")\n",
    "\n",
    "if (option1VsGivenWord > option2VsGivenWord):\n",
    "    print(f\"{option1} is more similar to {givenWord}\")\n",
    "else:\n",
    "    print(f\"{option2} is more similar to {givenWord}\")\n"
   ]
  },
  {
   "cell_type": "code",
   "execution_count": 28,
   "metadata": {},
   "outputs": [
    {
     "name": "stdout",
     "output_type": "stream",
     "text": [
      "Joyful vs Ecstatic: 0.37278956174850464\n",
      "Joyful vs Content: 0.0780087485909462\n",
      "Ecstatic is more similar to Joyful\n"
     ]
    }
   ],
   "source": [
    "#second word:\n",
    "givenWord = \"Joyful\"\n",
    "option1 = \"Ecstatic\"\n",
    "option2 = \"Content\"\n",
    "\n",
    "option1VsGivenWord = model.similarity(givenWord, option1)\n",
    "option2VsGivenWord = model.similarity(givenWord, option2)\n",
    "\n",
    "print(f\"{givenWord} vs {option1}: {option1VsGivenWord}\")\n",
    "print(f\"{givenWord} vs {option2}: {option2VsGivenWord}\")\n",
    "\n",
    "if (option1VsGivenWord > option2VsGivenWord):\n",
    "    print(f\"{option1} is more similar to {givenWord}\")\n",
    "else:\n",
    "    print(f\"{option2} is more similar to {givenWord}\")\n"
   ]
  },
  {
   "cell_type": "code",
   "execution_count": 29,
   "metadata": {},
   "outputs": [
    {
     "name": "stdout",
     "output_type": "stream",
     "text": [
      "Ecstatic vs Overjoyed: 0.4943511188030243\n",
      "Ecstatic vs Delighted: 0.5512084364891052\n",
      "Delighted is more similar to Ecstatic\n"
     ]
    }
   ],
   "source": [
    "#third word:\n",
    "givenWord = \"Ecstatic\"\n",
    "option1 = \"Overjoyed\"\n",
    "option2 = \"Delighted\"\n",
    "\n",
    "option1VsGivenWord = model.similarity(givenWord, option1)\n",
    "option2VsGivenWord = model.similarity(givenWord, option2)\n",
    "\n",
    "print(f\"{givenWord} vs {option1}: {option1VsGivenWord}\")\n",
    "print(f\"{givenWord} vs {option2}: {option2VsGivenWord}\")\n",
    "\n",
    "if (option1VsGivenWord > option2VsGivenWord):\n",
    "    print(f\"{option1} is more similar to {givenWord}\")\n",
    "else:\n",
    "    print(f\"{option2} is more similar to {givenWord}\")\n"
   ]
  },
  {
   "cell_type": "code",
   "execution_count": 30,
   "metadata": {},
   "outputs": [
    {
     "name": "stdout",
     "output_type": "stream",
     "text": [
      "Delighted vs Elated: 0.575486421585083\n",
      "Delighted vs Gratified: 0.3899479806423187\n",
      "Elated is more similar to Delighted\n"
     ]
    }
   ],
   "source": [
    "#fourth word:\n",
    "givenWord = \"Delighted\"\n",
    "option1 = \"Elated\"\n",
    "option2 = \"Gratified\"\n",
    "\n",
    "option1VsGivenWord = model.similarity(givenWord, option1)\n",
    "option2VsGivenWord = model.similarity(givenWord, option2)\n",
    "\n",
    "print(f\"{givenWord} vs {option1}: {option1VsGivenWord}\")\n",
    "print(f\"{givenWord} vs {option2}: {option2VsGivenWord}\")\n",
    "\n",
    "if (option1VsGivenWord > option2VsGivenWord):\n",
    "    print(f\"{option1} is more similar to {givenWord}\")\n",
    "else:\n",
    "    print(f\"{option2} is more similar to {givenWord}\")\n"
   ]
  },
  {
   "cell_type": "code",
   "execution_count": 32,
   "metadata": {},
   "outputs": [
    {
     "name": "stdout",
     "output_type": "stream",
     "text": [
      "Elated vs nonplussed: 0.2933177053928375\n",
      "Elated vs Baffled: 0.34381330013275146\n",
      "Baffled is more similar to Elated\n"
     ]
    }
   ],
   "source": [
    "#fifth word:\n",
    "givenWord = \"Elated\"\n",
    "option1 = \"nonplussed\"\n",
    "option2 = \"Baffled\"\n",
    "\n",
    "option1VsGivenWord = model.similarity(givenWord, option1)\n",
    "option2VsGivenWord = model.similarity(givenWord, option2)\n",
    "\n",
    "print(f\"{givenWord} vs {option1}: {option1VsGivenWord}\")\n",
    "print(f\"{givenWord} vs {option2}: {option2VsGivenWord}\")\n",
    "\n",
    "if (option1VsGivenWord > option2VsGivenWord):\n",
    "    print(f\"{option1} is more similar to {givenWord}\")\n",
    "else:\n",
    "    print(f\"{option2} is more similar to {givenWord}\")\n"
   ]
  },
  {
   "cell_type": "code",
   "execution_count": 35,
   "metadata": {},
   "outputs": [
    {
     "name": "stdout",
     "output_type": "stream",
     "text": [
      "Baffled vs Perplexed: 0.5316630601882935\n",
      "Baffled vs Flummoxed: 0.39854443073272705\n",
      "Perplexed is more similar to Baffled\n"
     ]
    }
   ],
   "source": [
    "#sixth word:\n",
    "givenWord = \"Baffled\"\n",
    "option1 = \"Perplexed\"\n",
    "option2 = \"Flummoxed\"\n",
    "\n",
    "option1VsGivenWord = model.similarity(givenWord, option1)\n",
    "option2VsGivenWord = model.similarity(givenWord, option2)\n",
    "\n",
    "print(f\"{givenWord} vs {option1}: {option1VsGivenWord}\")\n",
    "print(f\"{givenWord} vs {option2}: {option2VsGivenWord}\")\n",
    "\n",
    "if (option1VsGivenWord > option2VsGivenWord):\n",
    "    print(f\"{option1} is more similar to {givenWord}\")\n",
    "else:\n",
    "    print(f\"{option2} is more similar to {givenWord}\")\n",
    "\n"
   ]
  },
  {
   "cell_type": "code",
   "execution_count": 36,
   "metadata": {},
   "outputs": [
    {
     "name": "stdout",
     "output_type": "stream",
     "text": [
      "Perplexed vs Indifferent: 0.30339181423187256\n",
      "Perplexed vs Enthralled: 0.3247752785682678\n",
      "Enthralled is more similar to Perplexed\n"
     ]
    }
   ],
   "source": [
    "#seventh word:\n",
    "givenWord = \"Perplexed\"\n",
    "option1 = \"Indifferent\"\n",
    "option2 = \"Enthralled\"\n",
    "\n",
    "option1VsGivenWord = model.similarity(givenWord, option1)\n",
    "option2VsGivenWord = model.similarity(givenWord, option2)\n",
    "\n",
    "print(f\"{givenWord} vs {option1}: {option1VsGivenWord}\")\n",
    "print(f\"{givenWord} vs {option2}: {option2VsGivenWord}\")\n",
    "\n",
    "if (option1VsGivenWord > option2VsGivenWord):\n",
    "    print(f\"{option1} is more similar to {givenWord}\")\n",
    "else:\n",
    "    print(f\"{option2} is more similar to {givenWord}\")\n",
    "\n",
    "\n"
   ]
  },
  {
   "cell_type": "code",
   "execution_count": 38,
   "metadata": {},
   "outputs": [
    {
     "name": "stdout",
     "output_type": "stream",
     "text": [
      "Enthralled vs Impassive: 0.18015804886817932\n",
      "Enthralled vs Rhapsodic: 0.4554094970226288\n",
      "Rhapsodic is more similar to Enthralled\n"
     ]
    }
   ],
   "source": [
    "#eigth word:\n",
    "givenWord = \"Enthralled\"\n",
    "option1 = \"Impassive\"\n",
    "option2 = \"Rhapsodic\"\n",
    "\n",
    "option1VsGivenWord = model.similarity(givenWord, option1)\n",
    "option2VsGivenWord = model.similarity(givenWord, option2)\n",
    "\n",
    "print(f\"{givenWord} vs {option1}: {option1VsGivenWord}\")\n",
    "print(f\"{givenWord} vs {option2}: {option2VsGivenWord}\")\n",
    "\n",
    "if (option1VsGivenWord > option2VsGivenWord):\n",
    "    print(f\"{option1} is more similar to {givenWord}\")\n",
    "else:\n",
    "    print(f\"{option2} is more similar to {givenWord}\")\n",
    "\n",
    "\n"
   ]
  },
  {
   "cell_type": "code",
   "execution_count": 39,
   "metadata": {},
   "outputs": [
    {
     "name": "stdout",
     "output_type": "stream",
     "text": [
      "Rhapsodic vs Detached: 0.1498970091342926\n",
      "Rhapsodic vs Euphoric: 0.3413419723510742\n",
      "Euphoric is more similar to Rhapsodic\n"
     ]
    }
   ],
   "source": [
    "#Ninth word:\n",
    "givenWord = \"Rhapsodic\"\n",
    "option1 = \"Detached\"\n",
    "option2 = \"Euphoric\"\n",
    "\n",
    "option1VsGivenWord = model.similarity(givenWord, option1)\n",
    "option2VsGivenWord = model.similarity(givenWord, option2)\n",
    "\n",
    "print(f\"{givenWord} vs {option1}: {option1VsGivenWord}\")\n",
    "print(f\"{givenWord} vs {option2}: {option2VsGivenWord}\")\n",
    "\n",
    "if (option1VsGivenWord > option2VsGivenWord):\n",
    "    print(f\"{option1} is more similar to {givenWord}\")\n",
    "else:\n",
    "    print(f\"{option2} is more similar to {givenWord}\")\n",
    "\n",
    "\n"
   ]
  },
  {
   "cell_type": "code",
   "execution_count": null,
   "metadata": {},
   "outputs": [],
   "source": [
    "#Tenth word:\n",
    "givenWord = \"Euphoric\"\n",
    "option1 = \"Jubilant\"\n",
    "option2 = \"Ecstatic\"\n",
    "\n",
    "option1VsGivenWord = model.similarity(givenWord, option1)\n",
    "option2VsGivenWord = model.similarity(givenWord, option2)\n",
    "\n",
    "print(f\"{givenWord} vs {option1}: {option1VsGivenWord}\")\n",
    "print(f\"{givenWord} vs {option2}: {option2VsGivenWord}\")\n",
    "\n",
    "if (option1VsGivenWord > option2VsGivenWord):\n",
    "    print(f\"{option1} is more similar to {givenWord}\")\n",
    "else:\n",
    "    print(f\"{option2} is more similar to {givenWord}\")\n",
    "\n",
    "\n"
   ]
  }
 ],
 "metadata": {
  "kernelspec": {
   "display_name": "Python 3",
   "language": "python",
   "name": "python3"
  },
  "language_info": {
   "codemirror_mode": {
    "name": "ipython",
    "version": 3
   },
   "file_extension": ".py",
   "mimetype": "text/x-python",
   "name": "python",
   "nbconvert_exporter": "python",
   "pygments_lexer": "ipython3",
   "version": "3.11.7"
  }
 },
 "nbformat": 4,
 "nbformat_minor": 2
}
